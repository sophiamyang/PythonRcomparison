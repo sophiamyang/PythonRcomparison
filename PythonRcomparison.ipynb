{
 "cells": [
  {
   "cell_type": "code",
   "execution_count": null,
   "metadata": {},
   "outputs": [],
   "source": [
    "import dask.dataframe as dd\n",
    "import intake\n",
    "import pandas as pd\n",
    "import hvplot.pandas\n",
    "from cranlogs import cran_downloads"
   ]
  },
  {
   "cell_type": "markdown",
   "metadata": {},
   "source": [
    "### Python package - Conda data"
   ]
  },
  {
   "cell_type": "code",
   "execution_count": null,
   "metadata": {},
   "outputs": [],
   "source": [
    "cat = intake.open_catalog('https://raw.githubusercontent.com/ContinuumIO/anaconda-package-data/master/catalog/anaconda_package_data.yaml')\n",
    "df2018 = cat.anaconda_package_data_by_year(year=2018).to_dask()\n",
    "df2019 = cat.anaconda_package_data_by_year(year=2019).to_dask()\n",
    "dfconda = df2018.append(df2019)\n",
    "dfconda['month'] = dfconda.time.dt.month\n",
    "dfconda['year'] = dfconda.time.dt.year\n"
   ]
  },
  {
   "cell_type": "code",
   "execution_count": null,
   "metadata": {},
   "outputs": [],
   "source": [
    "dfconda.tail()"
   ]
  },
  {
   "cell_type": "code",
   "execution_count": null,
   "metadata": {},
   "outputs": [],
   "source": [
    "dfconda = dfconda\\\n",
    "    .loc[(dfconda.pkg_name.isin(['pandas','scikit-learn','statsmodels','xgboost','keras','tensorflow',\n",
    "                                'matplotlib','bokeh','networkx','panel','voila','plotly']))]\\\n",
    "    .groupby(['year','month','pkg_name'])\\\n",
    "    .sum()\\\n",
    "    .reset_index()\\\n",
    "    .compute()\n",
    "dfconda = dfconda.loc[dfconda.counts>0]\n",
    "dfconda['Month'] = dfconda[['year','month']].apply(lambda x : '{}-{:02d}-01'.format(x[0],x[1]), axis=1)\n",
    "dfconda = dfconda.reset_index(drop=True)"
   ]
  },
  {
   "cell_type": "code",
   "execution_count": null,
   "metadata": {},
   "outputs": [],
   "source": [
    "#dfconda.to_csv('conda.csv',index=False)\n",
    "dfconda = pd.read_csv('conda.csv')\n",
    "dfconda['Month'] = pd.to_datetime(dfconda.Month)"
   ]
  },
  {
   "cell_type": "code",
   "execution_count": null,
   "metadata": {},
   "outputs": [],
   "source": [
    "dfconda.head()"
   ]
  },
  {
   "cell_type": "code",
   "execution_count": null,
   "metadata": {},
   "outputs": [],
   "source": [
    "# dfconda['pkg_name'] = 'Conda-'+dfconda['pkg_name']\n",
    "# dfconda_wide = dfconda.pivot(index='Month', columns='pkg_name', values='counts')"
   ]
  },
  {
   "cell_type": "markdown",
   "metadata": {},
   "source": [
    "### Python package - PyPI data"
   ]
  },
  {
   "cell_type": "markdown",
   "metadata": {},
   "source": [
    "PyPI data is published in Google Bigquery (https://packaging.python.org/guides/analyzing-pypi-package-downloads/), I used the following queries to query the data. "
   ]
  },
  {
   "cell_type": "raw",
   "metadata": {},
   "source": [
    "SELECT\n",
    "  file.project AS `pkg_name`,\n",
    "  SUBSTR(_TABLE_SUFFIX, 1, 6) AS `month`,\n",
    "  COUNT(*) AS counts\n",
    "FROM `the-psf.pypi.downloads*`\n",
    "WHERE\n",
    "  file.project in ('pandas','scikit-learn','statsmodels','xgboost','keras','tensorflow',\n",
    "                   'matplotlib','bokeh','networkx','panel','voila','plotly')\n",
    "  AND timestamp < '2019-08-01 00:00:00'\n",
    "  AND timestamp >= '2018-01-01 00:00:00'\n",
    "GROUP BY `pkg_name`,`month`\n",
    "ORDER BY `pkg_name`,`month` DESC "
   ]
  },
  {
   "cell_type": "code",
   "execution_count": null,
   "metadata": {},
   "outputs": [],
   "source": [
    "dfpypi = pd.read_csv('pypi.csv')\n",
    "dfpypi['Month'] = pd.to_datetime(dfpypi.month, format=\"%Y%m\")"
   ]
  },
  {
   "cell_type": "code",
   "execution_count": null,
   "metadata": {},
   "outputs": [],
   "source": [
    "dfpypi.head()"
   ]
  },
  {
   "cell_type": "code",
   "execution_count": null,
   "metadata": {},
   "outputs": [],
   "source": [
    "# dfpypi['pkg_name'] = 'PyPI-'+dfpypi['pkg_name']\n",
    "# dfpypi_wide = dfpypi.pivot(index='Month', columns='pkg_name', values='counts')"
   ]
  },
  {
   "cell_type": "markdown",
   "metadata": {},
   "source": [
    "### Merge conda and PyPI "
   ]
  },
  {
   "cell_type": "code",
   "execution_count": null,
   "metadata": {},
   "outputs": [],
   "source": [
    "dfconda.head()"
   ]
  },
  {
   "cell_type": "code",
   "execution_count": null,
   "metadata": {},
   "outputs": [],
   "source": [
    "dfpypi.head()"
   ]
  },
  {
   "cell_type": "code",
   "execution_count": null,
   "metadata": {},
   "outputs": [],
   "source": [
    "len(dfconda), len(dfpypi)"
   ]
  },
  {
   "cell_type": "code",
   "execution_count": null,
   "metadata": {},
   "outputs": [],
   "source": [
    "dfpython = (\n",
    "    dfconda\n",
    "    .drop(columns=['year','month'])\n",
    "    .rename(columns={'counts':'conda_counts'})\n",
    "    .merge(dfpypi\n",
    "           .drop(columns=['month'])\n",
    "           .rename(columns={'counts':'pypi_counts'}),\n",
    "           on=['pkg_name','Month'], \n",
    "           how='outer')\n",
    ")"
   ]
  },
  {
   "cell_type": "code",
   "execution_count": null,
   "metadata": {},
   "outputs": [],
   "source": [
    "dfpython['counts'] = dfpython['conda_counts'] + dfpython['pypi_counts']\n",
    "dfpython['pkg_name'] = 'Python-'+dfpython['pkg_name']"
   ]
  },
  {
   "cell_type": "code",
   "execution_count": null,
   "metadata": {},
   "outputs": [],
   "source": [
    "dfpython.head()"
   ]
  },
  {
   "cell_type": "code",
   "execution_count": null,
   "metadata": {},
   "outputs": [],
   "source": [
    "len(dfpython)"
   ]
  },
  {
   "cell_type": "code",
   "execution_count": null,
   "metadata": {},
   "outputs": [],
   "source": [
    "dfpython_wide = dfpython.pivot(index='Month', columns='pkg_name', values='counts')"
   ]
  },
  {
   "cell_type": "markdown",
   "metadata": {},
   "source": [
    "### R package - CRAN data"
   ]
  },
  {
   "cell_type": "code",
   "execution_count": null,
   "metadata": {},
   "outputs": [],
   "source": [
    "dfcran = cran_downloads(['dplyr','tidyverse','e1071','caret','keras','tensorflow','ggplot2','shiny','data.table'], \n",
    "                        when='', \n",
    "                        start=\"2018-01-01\", \n",
    "                        end=\"2019-07-31\")\n"
   ]
  },
  {
   "cell_type": "code",
   "execution_count": null,
   "metadata": {},
   "outputs": [],
   "source": [
    "dfcran['date'] = dfcran['date'].astype('datetime64[ns]') \n",
    "dfcran['Month'] = dfcran.date.dt.strftime('%Y-%m-01')\n",
    "dfcran = dfcran\\\n",
    "    .groupby(['Month','package'])\\\n",
    "    .sum()\\\n",
    "    .reset_index()\n"
   ]
  },
  {
   "cell_type": "code",
   "execution_count": null,
   "metadata": {},
   "outputs": [],
   "source": [
    "#dfcran.to_csv('dfcran.csv',index=False)\n",
    "dfcran = pd.read_csv('dfcran.csv')\n",
    "dfcran['Month'] = pd.to_datetime(dfcran.Month)\n"
   ]
  },
  {
   "cell_type": "code",
   "execution_count": null,
   "metadata": {},
   "outputs": [],
   "source": [
    "dfcran['package'] = 'R-'+dfcran['package']\n",
    "\n",
    "dfcran_wide = dfcran.pivot(index='Month', columns='package', values='count')"
   ]
  },
  {
   "cell_type": "markdown",
   "metadata": {},
   "source": [
    "### merge data and plotting"
   ]
  },
  {
   "cell_type": "code",
   "execution_count": null,
   "metadata": {},
   "outputs": [],
   "source": [
    "df = dfpython_wide.merge(dfcran_wide, on='Month')"
   ]
  },
  {
   "cell_type": "code",
   "execution_count": null,
   "metadata": {},
   "outputs": [],
   "source": [
    "df.hvplot(x='Month',\n",
    "          y=['Python-pandas','R-dplyr','R-tidyverse','R-data.table'],\n",
    "          line_color=['#1E90FF','#FFA07A','#CD5C5C','#8B0000'],\n",
    "          ylabel='counts'\n",
    "         )\n"
   ]
  },
  {
   "cell_type": "code",
   "execution_count": null,
   "metadata": {},
   "outputs": [],
   "source": [
    "df.hvplot(x='Month',\n",
    "          y=['Python-scikit-learn','Python-statsmodels','R-caret','R-e1071'],\n",
    "          line_color=['#1E90FF','#87CEFA','#FF4500','#FFA500'],\n",
    "          ylabel='counts'\n",
    "         )\n"
   ]
  },
  {
   "cell_type": "code",
   "execution_count": null,
   "metadata": {},
   "outputs": [],
   "source": [
    "df.hvplot(x='Month',\n",
    "          y=['Python-keras','Python-tensorflow','R-keras','R-tensorflow'], \n",
    "          line_color=['#87CEFA','#1E90FF','#FF4500','#FFA500'],\n",
    "          ylabel='counts'\n",
    "         )\n"
   ]
  },
  {
   "cell_type": "code",
   "execution_count": null,
   "metadata": {},
   "outputs": [],
   "source": [
    "df.hvplot(x='Month',\n",
    "          y=['Python-matplotlib','Python-plotly','Python-bokeh','R-ggplot2'],\n",
    "          line_color=['#1E90FF','#87CEFA','#B0E0E6','#FF7F50'],\n",
    "          ylabel='counts'\n",
    "         )\n"
   ]
  },
  {
   "cell_type": "code",
   "execution_count": null,
   "metadata": {
    "scrolled": true
   },
   "outputs": [],
   "source": [
    "df.hvplot(x='Month',\n",
    "          y=['Python-panel','Python-voila','R-shiny'], \n",
    "          line_color=['#1E90FF','#87CEFA','#FF7F50'],\n",
    "          ylabel='counts'\n",
    "         )\n"
   ]
  }
 ],
 "metadata": {
  "kernelspec": {
   "display_name": "Python 3",
   "language": "python",
   "name": "python3"
  },
  "language_info": {
   "codemirror_mode": {
    "name": "ipython",
    "version": 3
   },
   "file_extension": ".py",
   "mimetype": "text/x-python",
   "name": "python",
   "nbconvert_exporter": "python",
   "pygments_lexer": "ipython3",
   "version": "3.7.3"
  }
 },
 "nbformat": 4,
 "nbformat_minor": 2
}
